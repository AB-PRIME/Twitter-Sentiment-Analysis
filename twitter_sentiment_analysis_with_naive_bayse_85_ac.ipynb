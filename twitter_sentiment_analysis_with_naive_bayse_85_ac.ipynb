{
  "nbformat": 4,
  "nbformat_minor": 5,
  "metadata": {
    "kernelspec": {
      "display_name": "Python 3",
      "language": "python",
      "name": "python3"
    },
    "language_info": {
      "codemirror_mode": {
        "name": "ipython",
        "version": 3
      },
      "file_extension": ".py",
      "mimetype": "text/x-python",
      "name": "python",
      "nbconvert_exporter": "python",
      "pygments_lexer": "ipython3",
      "version": "3.7.10"
    },
    "papermill": {
      "default_parameters": {},
      "duration": 114.99635,
      "end_time": "2021-05-14T11:08:34.540299",
      "environment_variables": {},
      "exception": null,
      "input_path": "__notebook__.ipynb",
      "output_path": "__notebook__.ipynb",
      "parameters": {},
      "start_time": "2021-05-14T11:06:39.543949",
      "version": "2.3.3"
    },
    "colab": {
      "name": "twitter-sentiment-analysis-with-naive-bayse-85-ac.ipynb",
      "provenance": [],
      "collapsed_sections": []
    },
    "accelerator": "GPU"
  },
  "cells": [
    {
      "cell_type": "code",
      "metadata": {
        "execution": {
          "iopub.execute_input": "2021-05-14T11:06:48.199324Z",
          "iopub.status.busy": "2021-05-14T11:06:48.198651Z",
          "iopub.status.idle": "2021-05-14T11:06:55.893381Z",
          "shell.execute_reply": "2021-05-14T11:06:55.893905Z"
        },
        "papermill": {
          "duration": 7.727429,
          "end_time": "2021-05-14T11:06:55.894272",
          "exception": false,
          "start_time": "2021-05-14T11:06:48.166843",
          "status": "completed"
        },
        "tags": [],
        "id": "exposed-ready",
        "outputId": "3a1e9184-c37d-4b60-c2df-cbc6f22d582d"
      },
      "source": [
        "\n",
        "#importing data \n",
        "import pandas as pd\n",
        "import numpy as np\n",
        "import matplotlib as nlp\n",
        "tweets=pd.read_csv('../input/sentiment140/training.1600000.processed.noemoticon.csv',encoding='latin', \n",
        "                   names = ['sentiment','id','date','query','user','tweet'])\n",
        "tweets"
      ],
      "id": "exposed-ready",
      "execution_count": null,
      "outputs": [
        {
          "output_type": "execute_result",
          "data": {
            "text/html": [
              "<div>\n",
              "<style scoped>\n",
              "    .dataframe tbody tr th:only-of-type {\n",
              "        vertical-align: middle;\n",
              "    }\n",
              "\n",
              "    .dataframe tbody tr th {\n",
              "        vertical-align: top;\n",
              "    }\n",
              "\n",
              "    .dataframe thead th {\n",
              "        text-align: right;\n",
              "    }\n",
              "</style>\n",
              "<table border=\"1\" class=\"dataframe\">\n",
              "  <thead>\n",
              "    <tr style=\"text-align: right;\">\n",
              "      <th></th>\n",
              "      <th>sentiment</th>\n",
              "      <th>id</th>\n",
              "      <th>date</th>\n",
              "      <th>query</th>\n",
              "      <th>user</th>\n",
              "      <th>tweet</th>\n",
              "    </tr>\n",
              "  </thead>\n",
              "  <tbody>\n",
              "    <tr>\n",
              "      <th>0</th>\n",
              "      <td>0</td>\n",
              "      <td>1467810369</td>\n",
              "      <td>Mon Apr 06 22:19:45 PDT 2009</td>\n",
              "      <td>NO_QUERY</td>\n",
              "      <td>_TheSpecialOne_</td>\n",
              "      <td>@switchfoot http://twitpic.com/2y1zl - Awww, t...</td>\n",
              "    </tr>\n",
              "    <tr>\n",
              "      <th>1</th>\n",
              "      <td>0</td>\n",
              "      <td>1467810672</td>\n",
              "      <td>Mon Apr 06 22:19:49 PDT 2009</td>\n",
              "      <td>NO_QUERY</td>\n",
              "      <td>scotthamilton</td>\n",
              "      <td>is upset that he can't update his Facebook by ...</td>\n",
              "    </tr>\n",
              "    <tr>\n",
              "      <th>2</th>\n",
              "      <td>0</td>\n",
              "      <td>1467810917</td>\n",
              "      <td>Mon Apr 06 22:19:53 PDT 2009</td>\n",
              "      <td>NO_QUERY</td>\n",
              "      <td>mattycus</td>\n",
              "      <td>@Kenichan I dived many times for the ball. Man...</td>\n",
              "    </tr>\n",
              "    <tr>\n",
              "      <th>3</th>\n",
              "      <td>0</td>\n",
              "      <td>1467811184</td>\n",
              "      <td>Mon Apr 06 22:19:57 PDT 2009</td>\n",
              "      <td>NO_QUERY</td>\n",
              "      <td>ElleCTF</td>\n",
              "      <td>my whole body feels itchy and like its on fire</td>\n",
              "    </tr>\n",
              "    <tr>\n",
              "      <th>4</th>\n",
              "      <td>0</td>\n",
              "      <td>1467811193</td>\n",
              "      <td>Mon Apr 06 22:19:57 PDT 2009</td>\n",
              "      <td>NO_QUERY</td>\n",
              "      <td>Karoli</td>\n",
              "      <td>@nationwideclass no, it's not behaving at all....</td>\n",
              "    </tr>\n",
              "    <tr>\n",
              "      <th>...</th>\n",
              "      <td>...</td>\n",
              "      <td>...</td>\n",
              "      <td>...</td>\n",
              "      <td>...</td>\n",
              "      <td>...</td>\n",
              "      <td>...</td>\n",
              "    </tr>\n",
              "    <tr>\n",
              "      <th>1599995</th>\n",
              "      <td>4</td>\n",
              "      <td>2193601966</td>\n",
              "      <td>Tue Jun 16 08:40:49 PDT 2009</td>\n",
              "      <td>NO_QUERY</td>\n",
              "      <td>AmandaMarie1028</td>\n",
              "      <td>Just woke up. Having no school is the best fee...</td>\n",
              "    </tr>\n",
              "    <tr>\n",
              "      <th>1599996</th>\n",
              "      <td>4</td>\n",
              "      <td>2193601969</td>\n",
              "      <td>Tue Jun 16 08:40:49 PDT 2009</td>\n",
              "      <td>NO_QUERY</td>\n",
              "      <td>TheWDBoards</td>\n",
              "      <td>TheWDB.com - Very cool to hear old Walt interv...</td>\n",
              "    </tr>\n",
              "    <tr>\n",
              "      <th>1599997</th>\n",
              "      <td>4</td>\n",
              "      <td>2193601991</td>\n",
              "      <td>Tue Jun 16 08:40:49 PDT 2009</td>\n",
              "      <td>NO_QUERY</td>\n",
              "      <td>bpbabe</td>\n",
              "      <td>Are you ready for your MoJo Makeover? Ask me f...</td>\n",
              "    </tr>\n",
              "    <tr>\n",
              "      <th>1599998</th>\n",
              "      <td>4</td>\n",
              "      <td>2193602064</td>\n",
              "      <td>Tue Jun 16 08:40:49 PDT 2009</td>\n",
              "      <td>NO_QUERY</td>\n",
              "      <td>tinydiamondz</td>\n",
              "      <td>Happy 38th Birthday to my boo of alll time!!! ...</td>\n",
              "    </tr>\n",
              "    <tr>\n",
              "      <th>1599999</th>\n",
              "      <td>4</td>\n",
              "      <td>2193602129</td>\n",
              "      <td>Tue Jun 16 08:40:50 PDT 2009</td>\n",
              "      <td>NO_QUERY</td>\n",
              "      <td>RyanTrevMorris</td>\n",
              "      <td>happy #charitytuesday @theNSPCC @SparksCharity...</td>\n",
              "    </tr>\n",
              "  </tbody>\n",
              "</table>\n",
              "<p>1600000 rows × 6 columns</p>\n",
              "</div>"
            ],
            "text/plain": [
              "         sentiment          id                          date     query  \\\n",
              "0                0  1467810369  Mon Apr 06 22:19:45 PDT 2009  NO_QUERY   \n",
              "1                0  1467810672  Mon Apr 06 22:19:49 PDT 2009  NO_QUERY   \n",
              "2                0  1467810917  Mon Apr 06 22:19:53 PDT 2009  NO_QUERY   \n",
              "3                0  1467811184  Mon Apr 06 22:19:57 PDT 2009  NO_QUERY   \n",
              "4                0  1467811193  Mon Apr 06 22:19:57 PDT 2009  NO_QUERY   \n",
              "...            ...         ...                           ...       ...   \n",
              "1599995          4  2193601966  Tue Jun 16 08:40:49 PDT 2009  NO_QUERY   \n",
              "1599996          4  2193601969  Tue Jun 16 08:40:49 PDT 2009  NO_QUERY   \n",
              "1599997          4  2193601991  Tue Jun 16 08:40:49 PDT 2009  NO_QUERY   \n",
              "1599998          4  2193602064  Tue Jun 16 08:40:49 PDT 2009  NO_QUERY   \n",
              "1599999          4  2193602129  Tue Jun 16 08:40:50 PDT 2009  NO_QUERY   \n",
              "\n",
              "                    user                                              tweet  \n",
              "0        _TheSpecialOne_  @switchfoot http://twitpic.com/2y1zl - Awww, t...  \n",
              "1          scotthamilton  is upset that he can't update his Facebook by ...  \n",
              "2               mattycus  @Kenichan I dived many times for the ball. Man...  \n",
              "3                ElleCTF    my whole body feels itchy and like its on fire   \n",
              "4                 Karoli  @nationwideclass no, it's not behaving at all....  \n",
              "...                  ...                                                ...  \n",
              "1599995  AmandaMarie1028  Just woke up. Having no school is the best fee...  \n",
              "1599996      TheWDBoards  TheWDB.com - Very cool to hear old Walt interv...  \n",
              "1599997           bpbabe  Are you ready for your MoJo Makeover? Ask me f...  \n",
              "1599998     tinydiamondz  Happy 38th Birthday to my boo of alll time!!! ...  \n",
              "1599999   RyanTrevMorris  happy #charitytuesday @theNSPCC @SparksCharity...  \n",
              "\n",
              "[1600000 rows x 6 columns]"
            ]
          },
          "metadata": {
            "tags": []
          },
          "execution_count": 1
        }
      ]
    },
    {
      "cell_type": "code",
      "metadata": {
        "execution": {
          "iopub.execute_input": "2021-05-14T11:06:55.944729Z",
          "iopub.status.busy": "2021-05-14T11:06:55.943927Z",
          "iopub.status.idle": "2021-05-14T11:06:57.481400Z",
          "shell.execute_reply": "2021-05-14T11:06:57.480607Z"
        },
        "papermill": {
          "duration": 1.567228,
          "end_time": "2021-05-14T11:06:57.481578",
          "exception": false,
          "start_time": "2021-05-14T11:06:55.914350",
          "status": "completed"
        },
        "tags": [],
        "id": "generic-settlement",
        "outputId": "6346558a-a8e6-4eaa-f1b5-309891436048"
      },
      "source": [
        "tweets = tweets.sample(frac=1)\n",
        "tweets = tweets[:200000]\n",
        "print(\"Dataset shape:\", tweets.shape)"
      ],
      "id": "generic-settlement",
      "execution_count": null,
      "outputs": [
        {
          "output_type": "stream",
          "text": [
            "Dataset shape: (200000, 6)\n"
          ],
          "name": "stdout"
        }
      ]
    },
    {
      "cell_type": "code",
      "metadata": {
        "execution": {
          "iopub.execute_input": "2021-05-14T11:06:57.531694Z",
          "iopub.status.busy": "2021-05-14T11:06:57.530845Z",
          "iopub.status.idle": "2021-05-14T11:06:57.537703Z",
          "shell.execute_reply": "2021-05-14T11:06:57.537001Z"
        },
        "papermill": {
          "duration": 0.035425,
          "end_time": "2021-05-14T11:06:57.537866",
          "exception": false,
          "start_time": "2021-05-14T11:06:57.502441",
          "status": "completed"
        },
        "tags": [],
        "id": "increasing-nowhere",
        "outputId": "dca801e4-baef-4522-9f31-409ff8dc92a4"
      },
      "source": [
        "# Here we will check unique values\n",
        "tweets['sentiment'].unique()"
      ],
      "id": "increasing-nowhere",
      "execution_count": null,
      "outputs": [
        {
          "output_type": "execute_result",
          "data": {
            "text/plain": [
              "array([0, 4])"
            ]
          },
          "metadata": {
            "tags": []
          },
          "execution_count": 3
        }
      ]
    },
    {
      "cell_type": "code",
      "metadata": {
        "execution": {
          "iopub.execute_input": "2021-05-14T11:06:57.585213Z",
          "iopub.status.busy": "2021-05-14T11:06:57.584513Z",
          "iopub.status.idle": "2021-05-14T11:06:57.607052Z",
          "shell.execute_reply": "2021-05-14T11:06:57.607554Z"
        },
        "papermill": {
          "duration": 0.048968,
          "end_time": "2021-05-14T11:06:57.607742",
          "exception": false,
          "start_time": "2021-05-14T11:06:57.558774",
          "status": "completed"
        },
        "tags": [],
        "id": "first-demonstration",
        "outputId": "c2b098b5-65e6-4a20-fdd2-fc833355b41a"
      },
      "source": [
        "#step 1 : Currently (0=negative,4=Positive) changing the notation to (0=Negative,1=Positive) \n",
        "#so that we can understand the data\n",
        "tweets['sentiment']=tweets['sentiment'].replace(4,1)\n",
        "tweets"
      ],
      "id": "first-demonstration",
      "execution_count": null,
      "outputs": [
        {
          "output_type": "execute_result",
          "data": {
            "text/html": [
              "<div>\n",
              "<style scoped>\n",
              "    .dataframe tbody tr th:only-of-type {\n",
              "        vertical-align: middle;\n",
              "    }\n",
              "\n",
              "    .dataframe tbody tr th {\n",
              "        vertical-align: top;\n",
              "    }\n",
              "\n",
              "    .dataframe thead th {\n",
              "        text-align: right;\n",
              "    }\n",
              "</style>\n",
              "<table border=\"1\" class=\"dataframe\">\n",
              "  <thead>\n",
              "    <tr style=\"text-align: right;\">\n",
              "      <th></th>\n",
              "      <th>sentiment</th>\n",
              "      <th>id</th>\n",
              "      <th>date</th>\n",
              "      <th>query</th>\n",
              "      <th>user</th>\n",
              "      <th>tweet</th>\n",
              "    </tr>\n",
              "  </thead>\n",
              "  <tbody>\n",
              "    <tr>\n",
              "      <th>229425</th>\n",
              "      <td>0</td>\n",
              "      <td>1978479694</td>\n",
              "      <td>Sat May 30 23:29:15 PDT 2009</td>\n",
              "      <td>NO_QUERY</td>\n",
              "      <td>nickinoo</td>\n",
              "      <td>Enough fun and games, back to the real world f...</td>\n",
              "    </tr>\n",
              "    <tr>\n",
              "      <th>77366</th>\n",
              "      <td>0</td>\n",
              "      <td>1696171405</td>\n",
              "      <td>Mon May 04 07:45:20 PDT 2009</td>\n",
              "      <td>NO_QUERY</td>\n",
              "      <td>KKOB</td>\n",
              "      <td>Can't believe it's 3:45 already :O where has m...</td>\n",
              "    </tr>\n",
              "    <tr>\n",
              "      <th>969001</th>\n",
              "      <td>1</td>\n",
              "      <td>1827911865</td>\n",
              "      <td>Sun May 17 11:42:14 PDT 2009</td>\n",
              "      <td>NO_QUERY</td>\n",
              "      <td>marveliz</td>\n",
              "      <td>Papi flew into town. Gonna watch sports all da...</td>\n",
              "    </tr>\n",
              "    <tr>\n",
              "      <th>1284152</th>\n",
              "      <td>1</td>\n",
              "      <td>2002014670</td>\n",
              "      <td>Tue Jun 02 02:51:21 PDT 2009</td>\n",
              "      <td>NO_QUERY</td>\n",
              "      <td>ROCKGUITARZ</td>\n",
              "      <td>@kobeboo Eat up! guz i am hittin the sack!!! k...</td>\n",
              "    </tr>\n",
              "    <tr>\n",
              "      <th>1370579</th>\n",
              "      <td>1</td>\n",
              "      <td>2051034151</td>\n",
              "      <td>Fri Jun 05 19:44:31 PDT 2009</td>\n",
              "      <td>NO_QUERY</td>\n",
              "      <td>CTIanWalshST</td>\n",
              "      <td>Great show tonight! So excited for the next one!</td>\n",
              "    </tr>\n",
              "    <tr>\n",
              "      <th>...</th>\n",
              "      <td>...</td>\n",
              "      <td>...</td>\n",
              "      <td>...</td>\n",
              "      <td>...</td>\n",
              "      <td>...</td>\n",
              "      <td>...</td>\n",
              "    </tr>\n",
              "    <tr>\n",
              "      <th>1225984</th>\n",
              "      <td>1</td>\n",
              "      <td>1990769223</td>\n",
              "      <td>Mon Jun 01 05:41:59 PDT 2009</td>\n",
              "      <td>NO_QUERY</td>\n",
              "      <td>2010fashionista</td>\n",
              "      <td>Only 2 more days of school, how exciting is th...</td>\n",
              "    </tr>\n",
              "    <tr>\n",
              "      <th>1123961</th>\n",
              "      <td>1</td>\n",
              "      <td>1974592200</td>\n",
              "      <td>Sat May 30 13:26:57 PDT 2009</td>\n",
              "      <td>NO_QUERY</td>\n",
              "      <td>mileyraysupport</td>\n",
              "      <td>@anneka13deleon thanks so much for helping thi...</td>\n",
              "    </tr>\n",
              "    <tr>\n",
              "      <th>213069</th>\n",
              "      <td>0</td>\n",
              "      <td>1974903787</td>\n",
              "      <td>Sat May 30 14:02:56 PDT 2009</td>\n",
              "      <td>NO_QUERY</td>\n",
              "      <td>pattysue1977</td>\n",
              "      <td>My fishing pole quit working.</td>\n",
              "    </tr>\n",
              "    <tr>\n",
              "      <th>1139641</th>\n",
              "      <td>1</td>\n",
              "      <td>1976951363</td>\n",
              "      <td>Sat May 30 19:40:34 PDT 2009</td>\n",
              "      <td>NO_QUERY</td>\n",
              "      <td>feedyourmusic</td>\n",
              "      <td>@ameonna10 Haha. it's like being tagged.</td>\n",
              "    </tr>\n",
              "    <tr>\n",
              "      <th>1029780</th>\n",
              "      <td>1</td>\n",
              "      <td>1932830451</td>\n",
              "      <td>Tue May 26 22:19:15 PDT 2009</td>\n",
              "      <td>NO_QUERY</td>\n",
              "      <td>Redsox_Frank</td>\n",
              "      <td>follow @paulelgin, join the movement  if not y...</td>\n",
              "    </tr>\n",
              "  </tbody>\n",
              "</table>\n",
              "<p>200000 rows × 6 columns</p>\n",
              "</div>"
            ],
            "text/plain": [
              "         sentiment          id                          date     query  \\\n",
              "229425           0  1978479694  Sat May 30 23:29:15 PDT 2009  NO_QUERY   \n",
              "77366            0  1696171405  Mon May 04 07:45:20 PDT 2009  NO_QUERY   \n",
              "969001           1  1827911865  Sun May 17 11:42:14 PDT 2009  NO_QUERY   \n",
              "1284152          1  2002014670  Tue Jun 02 02:51:21 PDT 2009  NO_QUERY   \n",
              "1370579          1  2051034151  Fri Jun 05 19:44:31 PDT 2009  NO_QUERY   \n",
              "...            ...         ...                           ...       ...   \n",
              "1225984          1  1990769223  Mon Jun 01 05:41:59 PDT 2009  NO_QUERY   \n",
              "1123961          1  1974592200  Sat May 30 13:26:57 PDT 2009  NO_QUERY   \n",
              "213069           0  1974903787  Sat May 30 14:02:56 PDT 2009  NO_QUERY   \n",
              "1139641          1  1976951363  Sat May 30 19:40:34 PDT 2009  NO_QUERY   \n",
              "1029780          1  1932830451  Tue May 26 22:19:15 PDT 2009  NO_QUERY   \n",
              "\n",
              "                    user                                              tweet  \n",
              "229425          nickinoo  Enough fun and games, back to the real world f...  \n",
              "77366               KKOB  Can't believe it's 3:45 already :O where has m...  \n",
              "969001          marveliz  Papi flew into town. Gonna watch sports all da...  \n",
              "1284152      ROCKGUITARZ  @kobeboo Eat up! guz i am hittin the sack!!! k...  \n",
              "1370579     CTIanWalshST  Great show tonight! So excited for the next one!   \n",
              "...                  ...                                                ...  \n",
              "1225984  2010fashionista  Only 2 more days of school, how exciting is th...  \n",
              "1123961  mileyraysupport  @anneka13deleon thanks so much for helping thi...  \n",
              "213069      pattysue1977                     My fishing pole quit working.   \n",
              "1139641    feedyourmusic          @ameonna10 Haha. it's like being tagged.   \n",
              "1029780     Redsox_Frank  follow @paulelgin, join the movement  if not y...  \n",
              "\n",
              "[200000 rows x 6 columns]"
            ]
          },
          "metadata": {
            "tags": []
          },
          "execution_count": 4
        }
      ]
    },
    {
      "cell_type": "code",
      "metadata": {
        "execution": {
          "iopub.execute_input": "2021-05-14T11:06:57.656975Z",
          "iopub.status.busy": "2021-05-14T11:06:57.654992Z",
          "iopub.status.idle": "2021-05-14T11:06:57.853239Z",
          "shell.execute_reply": "2021-05-14T11:06:57.852447Z"
        },
        "papermill": {
          "duration": 0.225002,
          "end_time": "2021-05-14T11:06:57.853415",
          "exception": false,
          "start_time": "2021-05-14T11:06:57.628413",
          "status": "completed"
        },
        "tags": [],
        "id": "compatible-financing",
        "outputId": "bebcd5d1-7aa1-4a44-b564-285ac8948573"
      },
      "source": [
        "# Removing the unnecessary columns.\n",
        "tweets.drop(['date','query','user'], axis=1, inplace=True)\n",
        "tweets.drop('id', axis=1, inplace=True)\n",
        "tweets.head(10)"
      ],
      "id": "compatible-financing",
      "execution_count": null,
      "outputs": [
        {
          "output_type": "execute_result",
          "data": {
            "text/html": [
              "<div>\n",
              "<style scoped>\n",
              "    .dataframe tbody tr th:only-of-type {\n",
              "        vertical-align: middle;\n",
              "    }\n",
              "\n",
              "    .dataframe tbody tr th {\n",
              "        vertical-align: top;\n",
              "    }\n",
              "\n",
              "    .dataframe thead th {\n",
              "        text-align: right;\n",
              "    }\n",
              "</style>\n",
              "<table border=\"1\" class=\"dataframe\">\n",
              "  <thead>\n",
              "    <tr style=\"text-align: right;\">\n",
              "      <th></th>\n",
              "      <th>sentiment</th>\n",
              "      <th>tweet</th>\n",
              "    </tr>\n",
              "  </thead>\n",
              "  <tbody>\n",
              "    <tr>\n",
              "      <th>229425</th>\n",
              "      <td>0</td>\n",
              "      <td>Enough fun and games, back to the real world f...</td>\n",
              "    </tr>\n",
              "    <tr>\n",
              "      <th>77366</th>\n",
              "      <td>0</td>\n",
              "      <td>Can't believe it's 3:45 already :O where has m...</td>\n",
              "    </tr>\n",
              "    <tr>\n",
              "      <th>969001</th>\n",
              "      <td>1</td>\n",
              "      <td>Papi flew into town. Gonna watch sports all da...</td>\n",
              "    </tr>\n",
              "    <tr>\n",
              "      <th>1284152</th>\n",
              "      <td>1</td>\n",
              "      <td>@kobeboo Eat up! guz i am hittin the sack!!! k...</td>\n",
              "    </tr>\n",
              "    <tr>\n",
              "      <th>1370579</th>\n",
              "      <td>1</td>\n",
              "      <td>Great show tonight! So excited for the next one!</td>\n",
              "    </tr>\n",
              "    <tr>\n",
              "      <th>931419</th>\n",
              "      <td>1</td>\n",
              "      <td>@jbear22 the property value just jumped up wit...</td>\n",
              "    </tr>\n",
              "    <tr>\n",
              "      <th>335462</th>\n",
              "      <td>0</td>\n",
              "      <td>Waaah! Sophia Bush and James Lafferty broke up...</td>\n",
              "    </tr>\n",
              "    <tr>\n",
              "      <th>349041</th>\n",
              "      <td>0</td>\n",
              "      <td>I believe Xobni affects the outlook search, as...</td>\n",
              "    </tr>\n",
              "    <tr>\n",
              "      <th>814041</th>\n",
              "      <td>1</td>\n",
              "      <td>@upscale hey you too Ashley! have an awesome d...</td>\n",
              "    </tr>\n",
              "    <tr>\n",
              "      <th>1030791</th>\n",
              "      <td>1</td>\n",
              "      <td>@siyaadah You're so sweet, thank you. Sorry I ...</td>\n",
              "    </tr>\n",
              "  </tbody>\n",
              "</table>\n",
              "</div>"
            ],
            "text/plain": [
              "         sentiment                                              tweet\n",
              "229425           0  Enough fun and games, back to the real world f...\n",
              "77366            0  Can't believe it's 3:45 already :O where has m...\n",
              "969001           1  Papi flew into town. Gonna watch sports all da...\n",
              "1284152          1  @kobeboo Eat up! guz i am hittin the sack!!! k...\n",
              "1370579          1  Great show tonight! So excited for the next one! \n",
              "931419           1  @jbear22 the property value just jumped up wit...\n",
              "335462           0  Waaah! Sophia Bush and James Lafferty broke up...\n",
              "349041           0  I believe Xobni affects the outlook search, as...\n",
              "814041           1  @upscale hey you too Ashley! have an awesome d...\n",
              "1030791          1  @siyaadah You're so sweet, thank you. Sorry I ..."
            ]
          },
          "metadata": {
            "tags": []
          },
          "execution_count": 5
        }
      ]
    },
    {
      "cell_type": "code",
      "metadata": {
        "execution": {
          "iopub.execute_input": "2021-05-14T11:06:57.953919Z",
          "iopub.status.busy": "2021-05-14T11:06:57.902219Z",
          "iopub.status.idle": "2021-05-14T11:06:57.983591Z",
          "shell.execute_reply": "2021-05-14T11:06:57.982936Z"
        },
        "papermill": {
          "duration": 0.108356,
          "end_time": "2021-05-14T11:06:57.983751",
          "exception": false,
          "start_time": "2021-05-14T11:06:57.875395",
          "status": "completed"
        },
        "tags": [],
        "id": "judicial-resident",
        "outputId": "2a7c8dfd-37bd-4b61-ebb4-d6e666652727"
      },
      "source": [
        "#Checking if any null values present\n",
        "(tweets.isnull().sum() / len(tweets))*100"
      ],
      "id": "judicial-resident",
      "execution_count": null,
      "outputs": [
        {
          "output_type": "execute_result",
          "data": {
            "text/plain": [
              "sentiment    0.0\n",
              "tweet        0.0\n",
              "dtype: float64"
            ]
          },
          "metadata": {
            "tags": []
          },
          "execution_count": 6
        }
      ]
    },
    {
      "cell_type": "code",
      "metadata": {
        "execution": {
          "iopub.execute_input": "2021-05-14T11:06:58.034349Z",
          "iopub.status.busy": "2021-05-14T11:06:58.033627Z",
          "iopub.status.idle": "2021-05-14T11:06:58.079414Z",
          "shell.execute_reply": "2021-05-14T11:06:58.078833Z"
        },
        "papermill": {
          "duration": 0.073399,
          "end_time": "2021-05-14T11:06:58.079591",
          "exception": false,
          "start_time": "2021-05-14T11:06:58.006192",
          "status": "completed"
        },
        "tags": [],
        "id": "understood-retention"
      },
      "source": [
        "#converting pandas object to a string type\n",
        "tweets['tweet'] = tweets['tweet'].astype('str')"
      ],
      "id": "understood-retention",
      "execution_count": null,
      "outputs": []
    },
    {
      "cell_type": "code",
      "metadata": {
        "execution": {
          "iopub.execute_input": "2021-05-14T11:06:58.133650Z",
          "iopub.status.busy": "2021-05-14T11:06:58.132864Z",
          "iopub.status.idle": "2021-05-14T11:06:58.146687Z",
          "shell.execute_reply": "2021-05-14T11:06:58.147303Z"
        },
        "papermill": {
          "duration": 0.045539,
          "end_time": "2021-05-14T11:06:58.147506",
          "exception": false,
          "start_time": "2021-05-14T11:06:58.101967",
          "status": "completed"
        },
        "tags": [],
        "id": "aboriginal-trustee",
        "outputId": "90c9b418-7485-416c-a8f5-157dfc981bb7"
      },
      "source": [
        " #check the number of positive vs. negative tagged sentences\n",
        "positives = tweets['sentiment'][tweets.sentiment == 1 ]\n",
        "negatives = tweets['sentiment'][tweets.sentiment == 0 ]\n",
        "\n",
        "print('Total length of the data is:         {}'.format(tweets.shape[0]))\n",
        "print('No. of positve tagged sentences is:  {}'.format(len(positives)))\n",
        "print('No. of negative tagged sentences is: {}'.format(len(negatives)))"
      ],
      "id": "aboriginal-trustee",
      "execution_count": null,
      "outputs": [
        {
          "output_type": "stream",
          "text": [
            "Total length of the data is:         200000\n",
            "No. of positve tagged sentences is:  100132\n",
            "No. of negative tagged sentences is: 99868\n"
          ],
          "name": "stdout"
        }
      ]
    },
    {
      "cell_type": "code",
      "metadata": {
        "execution": {
          "iopub.execute_input": "2021-05-14T11:06:58.198680Z",
          "iopub.status.busy": "2021-05-14T11:06:58.197996Z",
          "iopub.status.idle": "2021-05-14T11:07:00.081480Z",
          "shell.execute_reply": "2021-05-14T11:07:00.082126Z"
        },
        "papermill": {
          "duration": 1.912292,
          "end_time": "2021-05-14T11:07:00.082371",
          "exception": false,
          "start_time": "2021-05-14T11:06:58.170079",
          "status": "completed"
        },
        "tags": [],
        "id": "particular-offer",
        "outputId": "55d8604c-a53b-4a42-aa6d-3a642dca006d"
      },
      "source": [
        "# nltk\n",
        "import nltk\n",
        "from nltk.stem import WordNetLemmatizer\n",
        "from nltk.corpus import stopwords\n",
        "from nltk.tokenize import word_tokenize\n",
        "#Stop Words: A stop word is a commonly used word (such as “the”, “a”, “an”, “in”) \n",
        "#that a search engine has been programmed to ignore,\n",
        "#both when indexing entries for searching and when retrieving them as the result of a search query.\n",
        "nltk.download('stopwords')\n",
        "stopword = set(stopwords.words('english'))\n",
        "print(stopword)"
      ],
      "id": "particular-offer",
      "execution_count": null,
      "outputs": [
        {
          "output_type": "stream",
          "text": [
            "[nltk_data] Downloading package stopwords to /usr/share/nltk_data...\n",
            "[nltk_data]   Package stopwords is already up-to-date!\n",
            "{'him', 'an', 'herself', 'those', 'm', 'had', 'who', 'why', 'once', 'weren', 'until', \"you'll\", 'or', 'then', 'each', 'didn', 'own', 'nor', 'does', 'couldn', 'yourself', 'shan', 'me', 'in', \"that'll\", 'both', \"weren't\", 'a', 'o', 'after', 'down', 'itself', \"she's\", 'the', \"isn't\", 'll', 'this', 'don', 'mustn', 're', 'further', 'yours', 'they', 'haven', 'd', 't', 'doing', 'doesn', 'through', 'that', 'our', 'their', 'what', 'themselves', \"hadn't\", \"hasn't\", 'for', 'very', 'any', 'with', 's', 'here', 'because', 'other', 'hadn', 've', 'were', 'ma', 'will', 'ain', 'about', 'was', 'such', 'mightn', 'wouldn', 'been', 'few', 'wasn', 'them', 'if', 'whom', 'which', 'into', 'to', 'aren', \"mightn't\", 'ours', 'on', 'off', 'you', \"it's\", 'these', \"couldn't\", \"won't\", 'himself', 'again', \"don't\", 'same', \"you'd\", 'i', 'myself', 'against', 'of', 'there', 'and', \"needn't\", 'hasn', 'while', 'do', 'now', 'y', 'its', 'no', 'has', 'hers', 'having', 'out', 'only', 'too', 'as', 'but', 'where', \"wasn't\", 'can', 'up', 'some', \"should've\", \"wouldn't\", 'have', \"didn't\", 'he', \"doesn't\", 'it', 'needn', 'ourselves', 'shouldn', 'she', 'when', 'at', \"mustn't\", 'did', 'we', \"you've\", 'below', 'should', 'are', 'between', 'just', \"shan't\", 'by', 'more', 'his', 'during', 'all', 'under', 'so', 'her', 'yourselves', \"shouldn't\", 'won', 'my', 'being', 'how', 'than', 'is', 'most', 'be', 'above', 'from', 'isn', 'over', \"haven't\", \"aren't\", 'not', 'your', 'am', 'before', \"you're\", 'theirs'}\n"
          ],
          "name": "stdout"
        }
      ]
    },
    {
      "cell_type": "code",
      "metadata": {
        "execution": {
          "iopub.execute_input": "2021-05-14T11:07:00.283791Z",
          "iopub.status.busy": "2021-05-14T11:07:00.282757Z",
          "iopub.status.idle": "2021-05-14T11:07:00.286415Z",
          "shell.execute_reply": "2021-05-14T11:07:00.285816Z"
        },
        "papermill": {
          "duration": 0.180988,
          "end_time": "2021-05-14T11:07:00.286579",
          "exception": false,
          "start_time": "2021-05-14T11:07:00.105591",
          "status": "completed"
        },
        "tags": [],
        "id": "neither-signature"
      },
      "source": [
        "import warnings\n",
        "warnings.filterwarnings('ignore')\n",
        "import re\n",
        "import string\n",
        "import pickle\n",
        "urlPattern = r\"((http://)[^ ]*|(https://)[^ ]*|( www\\.)[^ ]*)\"\n",
        "userPattern = '@[^\\s]+'\n",
        "some = 'amp,today,tomorrow,going,girl'\n",
        "def process_tweets(tweet):\n",
        "  # Lower Casing\n",
        "    tweet = re.sub(r\"he's\", \"he is\", tweet)\n",
        "    tweet = re.sub(r\"there's\", \"there is\", tweet)\n",
        "    tweet = re.sub(r\"We're\", \"We are\", tweet)\n",
        "    tweet = re.sub(r\"That's\", \"That is\", tweet)\n",
        "    tweet = re.sub(r\"won't\", \"will not\", tweet)\n",
        "    tweet = re.sub(r\"they're\", \"they are\", tweet)\n",
        "    tweet = re.sub(r\"Can't\", \"Cannot\", tweet)\n",
        "    tweet = re.sub(r\"wasn't\", \"was not\", tweet)\n",
        "    tweet = re.sub(r\"don\\x89Ûªt\", \"do not\", tweet)\n",
        "    tweet = re.sub(r\"aren't\", \"are not\", tweet)\n",
        "    tweet = re.sub(r\"isn't\", \"is not\", tweet)\n",
        "    tweet = re.sub(r\"What's\", \"What is\", tweet)\n",
        "    tweet = re.sub(r\"haven't\", \"have not\", tweet)\n",
        "    tweet = re.sub(r\"hasn't\", \"has not\", tweet)\n",
        "    tweet = re.sub(r\"There's\", \"There is\", tweet)\n",
        "    tweet = re.sub(r\"He's\", \"He is\", tweet)\n",
        "    tweet = re.sub(r\"It's\", \"It is\", tweet)\n",
        "    tweet = re.sub(r\"You're\", \"You are\", tweet)\n",
        "    tweet = re.sub(r\"I'M\", \"I am\", tweet)\n",
        "    tweet = re.sub(r\"shouldn't\", \"should not\", tweet)\n",
        "    tweet = re.sub(r\"wouldn't\", \"would not\", tweet)\n",
        "    tweet = re.sub(r\"i'm\", \"I am\", tweet)\n",
        "    tweet = re.sub(r\"I\\x89Ûªm\", \"I am\", tweet)\n",
        "    tweet = re.sub(r\"I'm\", \"I am\", tweet)\n",
        "    tweet = re.sub(r\"Isn't\", \"is not\", tweet)\n",
        "    tweet = re.sub(r\"Here's\", \"Here is\", tweet)\n",
        "    tweet = re.sub(r\"you've\", \"you have\", tweet)\n",
        "    tweet = re.sub(r\"you\\x89Ûªve\", \"you have\", tweet)\n",
        "    tweet = re.sub(r\"we're\", \"we are\", tweet)\n",
        "    tweet = re.sub(r\"what's\", \"what is\", tweet)\n",
        "    tweet = re.sub(r\"couldn't\", \"could not\", tweet)\n",
        "    tweet = re.sub(r\"we've\", \"we have\", tweet)\n",
        "    tweet = re.sub(r\"it\\x89Ûªs\", \"it is\", tweet)\n",
        "    tweet = re.sub(r\"doesn\\x89Ûªt\", \"does not\", tweet)\n",
        "    tweet = re.sub(r\"It\\x89Ûªs\", \"It is\", tweet)\n",
        "    tweet = re.sub(r\"Here\\x89Ûªs\", \"Here is\", tweet)\n",
        "    tweet = re.sub(r\"who's\", \"who is\", tweet)\n",
        "    tweet = re.sub(r\"I\\x89Ûªve\", \"I have\", tweet)\n",
        "    tweet = re.sub(r\"y'all\", \"you all\", tweet)\n",
        "    tweet = re.sub(r\"can\\x89Ûªt\", \"cannot\", tweet)\n",
        "    tweet = re.sub(r\"would've\", \"would have\", tweet)\n",
        "    tweet = re.sub(r\"it'll\", \"it will\", tweet)\n",
        "    tweet = re.sub(r\"we'll\", \"we will\", tweet)\n",
        "    tweet = re.sub(r\"wouldn\\x89Ûªt\", \"would not\", tweet)\n",
        "    tweet = re.sub(r\"We've\", \"We have\", tweet)\n",
        "    tweet = re.sub(r\"he'll\", \"he will\", tweet)\n",
        "    tweet = re.sub(r\"Y'all\", \"You all\", tweet)\n",
        "    tweet = re.sub(r\"Weren't\", \"Were not\", tweet)\n",
        "    tweet = re.sub(r\"Didn't\", \"Did not\", tweet)\n",
        "    tweet = re.sub(r\"they'll\", \"they will\", tweet)\n",
        "    tweet = re.sub(r\"they'd\", \"they would\", tweet)\n",
        "    tweet = re.sub(r\"DON'T\", \"DO NOT\", tweet)\n",
        "    tweet = re.sub(r\"That\\x89Ûªs\", \"That is\", tweet)\n",
        "    tweet = re.sub(r\"they've\", \"they have\", tweet)\n",
        "    tweet = re.sub(r\"i'd\", \"I would\", tweet)\n",
        "    tweet = re.sub(r\"should've\", \"should have\", tweet)\n",
        "    tweet = re.sub(r\"You\\x89Ûªre\", \"You are\", tweet)\n",
        "    tweet = re.sub(r\"where's\", \"where is\", tweet)\n",
        "    tweet = re.sub(r\"Don\\x89Ûªt\", \"Do not\", tweet)\n",
        "    tweet = re.sub(r\"we'd\", \"we would\", tweet)\n",
        "    tweet = re.sub(r\"i'll\", \"I will\", tweet)\n",
        "    tweet = re.sub(r\"weren't\", \"were not\", tweet)\n",
        "    tweet = re.sub(r\"They're\", \"They are\", tweet)\n",
        "    tweet = re.sub(r\"Can\\x89Ûªt\", \"Cannot\", tweet)\n",
        "    tweet = re.sub(r\"you\\x89Ûªll\", \"you will\", tweet)\n",
        "    tweet = re.sub(r\"I\\x89Ûªd\", \"I would\", tweet)\n",
        "    tweet = re.sub(r\"let's\", \"let us\", tweet)\n",
        "    tweet = re.sub(r\"it's\", \"it is\", tweet)\n",
        "    tweet = re.sub(r\"can't\", \"cannot\", tweet)\n",
        "    tweet = re.sub(r\"don't\", \"do not\", tweet)\n",
        "    tweet = re.sub(r\"you're\", \"you are\", tweet)\n",
        "    tweet = re.sub(r\"i've\", \"I have\", tweet)\n",
        "    tweet = re.sub(r\"that's\", \"that is\", tweet)\n",
        "    tweet = re.sub(r\"i'll\", \"I will\", tweet)\n",
        "    tweet = re.sub(r\"doesn't\", \"does not\", tweet)\n",
        "    tweet = re.sub(r\"i'd\", \"I would\", tweet)\n",
        "    tweet = re.sub(r\"didn't\", \"did not\", tweet)\n",
        "    tweet = re.sub(r\"ain't\", \"am not\", tweet)\n",
        "    tweet = re.sub(r\"you'll\", \"you will\", tweet)\n",
        "    tweet = re.sub(r\"I've\", \"I have\", tweet)\n",
        "    tweet = re.sub(r\"Don't\", \"do not\", tweet)\n",
        "    tweet = re.sub(r\"I'll\", \"I will\", tweet)\n",
        "    tweet = re.sub(r\"I'd\", \"I would\", tweet)\n",
        "    tweet = re.sub(r\"Let's\", \"Let us\", tweet)\n",
        "    tweet = re.sub(r\"you'd\", \"You would\", tweet)\n",
        "    tweet = re.sub(r\"It's\", \"It is\", tweet)\n",
        "    tweet = re.sub(r\"Ain't\", \"am not\", tweet)\n",
        "    tweet = re.sub(r\"Haven't\", \"Have not\", tweet)\n",
        "    tweet = re.sub(r\"Could've\", \"Could have\", tweet)\n",
        "    tweet = re.sub(r\"youve\", \"you have\", tweet)  \n",
        "    tweet = re.sub(r\"donå«t\", \"do not\", tweet)  \n",
        "    \n",
        "    tweet = re.sub(r\"some1\", \"someone\", tweet)\n",
        "    tweet = re.sub(r\"yrs\", \"years\", tweet)\n",
        "    tweet = re.sub(r\"hrs\", \"hours\", tweet)\n",
        "    tweet = re.sub(r\"2morow|2moro\", \"tomorrow\", tweet)\n",
        "    tweet = re.sub(r\"2day\", \"today\", tweet)\n",
        "    tweet = re.sub(r\"4got|4gotten\", \"forget\", tweet)\n",
        "    tweet = re.sub(r\"b-day|bday\", \"b-day\", tweet)\n",
        "    tweet = re.sub(r\"mother's\", \"mother\", tweet)\n",
        "    tweet = re.sub(r\"mom's\", \"mom\", tweet)\n",
        "    tweet = re.sub(r\"dad's\", \"dad\", tweet)\n",
        "    tweet = re.sub(r\"hahah|hahaha|hahahaha\", \"haha\", tweet)\n",
        "    tweet = re.sub(r\"lmao|lolz|rofl\", \"lol\", tweet)\n",
        "    tweet = re.sub(r\"thanx|thnx\", \"thanks\", tweet)\n",
        "    tweet = re.sub(r\"goood\", \"good\", tweet)\n",
        "    tweet = re.sub(r\"some1\", \"someone\", tweet)\n",
        "    tweet = re.sub(r\"some1\", \"someone\", tweet)\n",
        "    tweet = tweet.lower()\n",
        "    tweet=tweet[1:]\n",
        "    # Removing all URls \n",
        "    tweet = re.sub(urlPattern,'',tweet)\n",
        "    # Removing all @username.\n",
        "    tweet = re.sub(userPattern,'', tweet) \n",
        "    #remove some words\n",
        "    tweet= re.sub(some,'',tweet)\n",
        "    #Remove punctuations\n",
        "    tweet = tweet.translate(str.maketrans(\"\",\"\",string.punctuation))\n",
        "    #tokenizing words\n",
        "    tokens = word_tokenize(tweet)\n",
        "    #tokens = [w for w in tokens if len(w)>2]\n",
        "    #Removing Stop Words\n",
        "    final_tokens = [w for w in tokens if w not in stopword]\n",
        "    #reducing a word to its word stem \n",
        "    wordLemm = WordNetLemmatizer()\n",
        "    finalwords=[]\n",
        "    for w in final_tokens:\n",
        "      if len(w)>1:\n",
        "        word = wordLemm.lemmatize(w)\n",
        "        finalwords.append(word)\n",
        "    return ' '.join(finalwords)"
      ],
      "id": "neither-signature",
      "execution_count": null,
      "outputs": []
    },
    {
      "cell_type": "code",
      "metadata": {
        "execution": {
          "iopub.execute_input": "2021-05-14T11:07:00.350117Z",
          "iopub.status.busy": "2021-05-14T11:07:00.344272Z",
          "iopub.status.idle": "2021-05-14T11:07:00.366543Z",
          "shell.execute_reply": "2021-05-14T11:07:00.365759Z"
        },
        "papermill": {
          "duration": 0.056481,
          "end_time": "2021-05-14T11:07:00.366778",
          "exception": false,
          "start_time": "2021-05-14T11:07:00.310297",
          "status": "completed"
        },
        "tags": [],
        "id": "favorite-bumper"
      },
      "source": [
        "abbreviations = {\n",
        "    \"$\" : \" dollar \",\n",
        "    \"€\" : \" euro \",\n",
        "    \"4ao\" : \"for adults only\",\n",
        "    \"a.m\" : \"before midday\",\n",
        "    \"a3\" : \"anytime anywhere anyplace\",\n",
        "    \"aamof\" : \"as a matter of fact\",\n",
        "    \"acct\" : \"account\",\n",
        "    \"adih\" : \"another day in hell\",\n",
        "    \"afaic\" : \"as far as i am concerned\",\n",
        "    \"afaict\" : \"as far as i can tell\",\n",
        "    \"afaik\" : \"as far as i know\",\n",
        "    \"afair\" : \"as far as i remember\",\n",
        "    \"afk\" : \"away from keyboard\",\n",
        "    \"app\" : \"application\",\n",
        "    \"approx\" : \"approximately\",\n",
        "    \"apps\" : \"applications\",\n",
        "    \"asap\" : \"as soon as possible\",\n",
        "    \"asl\" : \"age, sex, location\",\n",
        "    \"atk\" : \"at the keyboard\",\n",
        "    \"ave.\" : \"avenue\",\n",
        "    \"aymm\" : \"are you my mother\",\n",
        "    \"ayor\" : \"at your own risk\", \n",
        "    \"b&b\" : \"bed and breakfast\",\n",
        "    \"b+b\" : \"bed and breakfast\",\n",
        "    \"b.c\" : \"before christ\",\n",
        "    \"b2b\" : \"business to business\",\n",
        "    \"b2c\" : \"business to customer\",\n",
        "    \"b4\" : \"before\",\n",
        "    \"b4n\" : \"bye for now\",\n",
        "    \"b@u\" : \"back at you\",\n",
        "    \"bae\" : \"before anyone else\",\n",
        "    \"bak\" : \"back at keyboard\",\n",
        "    \"bbbg\" : \"bye bye be good\",\n",
        "    \"bbc\" : \"british broadcasting corporation\",\n",
        "    \"bbias\" : \"be back in a second\",\n",
        "    \"bbl\" : \"be back later\",\n",
        "    \"bbs\" : \"be back soon\",\n",
        "    \"be4\" : \"before\",\n",
        "    \"bfn\" : \"bye for now\",\n",
        "    \"blvd\" : \"boulevard\",\n",
        "    \"bout\" : \"about\",\n",
        "    \"brb\" : \"be right back\",\n",
        "    \"bros\" : \"brothers\",\n",
        "    \"brt\" : \"be right there\",\n",
        "    \"bsaaw\" : \"big smile and a wink\",\n",
        "    \"btw\" : \"by the way\",\n",
        "    \"bwl\" : \"bursting with laughter\",\n",
        "    \"c/o\" : \"care of\",\n",
        "    \"cet\" : \"central european time\",\n",
        "    \"cf\" : \"compare\",\n",
        "    \"cia\" : \"central intelligence agency\",\n",
        "    \"csl\" : \"can not stop laughing\",\n",
        "    \"cu\" : \"see you\",\n",
        "    \"cul8r\" : \"see you later\",\n",
        "    \"cv\" : \"curriculum vitae\",\n",
        "    \"cwot\" : \"complete waste of time\",\n",
        "    \"cya\" : \"see you\",\n",
        "    \"cyt\" : \"see you tomorrow\",\n",
        "    \"dae\" : \"does anyone else\",\n",
        "    \"dbmib\" : \"do not bother me i am busy\",\n",
        "    \"diy\" : \"do it yourself\",\n",
        "    \"dm\" : \"direct message\",\n",
        "    \"dwh\" : \"during work hours\",\n",
        "    \"e123\" : \"easy as one two three\",\n",
        "    \"eet\" : \"eastern european time\",\n",
        "    \"eg\" : \"example\",\n",
        "    \"embm\" : \"early morning business meeting\",\n",
        "    \"encl\" : \"enclosed\",\n",
        "    \"encl.\" : \"enclosed\",\n",
        "    \"etc\" : \"and so on\",\n",
        "    \"faq\" : \"frequently asked questions\",\n",
        "    \"fawc\" : \"for anyone who cares\",\n",
        "    \"fb\" : \"facebook\",\n",
        "    \"fc\" : \"fingers crossed\",\n",
        "    \"fig\" : \"figure\",\n",
        "    \"fimh\" : \"forever in my heart\", \n",
        "    \"ft.\" : \"feet\",\n",
        "    \"ft\" : \"featuring\",\n",
        "    \"ftl\" : \"for the loss\",\n",
        "    \"ftw\" : \"for the win\",\n",
        "    \"fwiw\" : \"for what it is worth\",\n",
        "    \"fyi\" : \"for your information\",\n",
        "    \"g9\" : \"genius\",\n",
        "    \"gahoy\" : \"get a hold of yourself\",\n",
        "    \"gal\" : \"get a life\",\n",
        "    \"gcse\" : \"general certificate of secondary education\",\n",
        "    \"gfn\" : \"gone for now\",\n",
        "    \"gg\" : \"good game\",\n",
        "    \"gl\" : \"good luck\",\n",
        "    \"glhf\" : \"good luck have fun\",\n",
        "    \"gmt\" : \"greenwich mean time\",\n",
        "    \"gmta\" : \"great minds think alike\",\n",
        "    \"gn\" : \"good night\",\n",
        "    \"g.o.a.t\" : \"greatest of all time\",\n",
        "    \"goat\" : \"greatest of all time\",\n",
        "    \"goi\" : \"get over it\",\n",
        "    \"gps\" : \"global positioning system\",\n",
        "    \"gr8\" : \"great\",\n",
        "    \"gratz\" : \"congratulations\",\n",
        "    \"gyal\" : \"girl\",\n",
        "    \"h&c\" : \"hot and cold\",\n",
        "    \"hp\" : \"horsepower\",\n",
        "    \"hr\" : \"hour\",\n",
        "    \"hrh\" : \"his royal highness\",\n",
        "    \"ht\" : \"height\",\n",
        "    \"ibrb\" : \"i will be right back\",\n",
        "    \"ic\" : \"i see\",\n",
        "    \"icq\" : \"i seek you\",\n",
        "    \"icymi\" : \"in case you missed it\",\n",
        "    \"idc\" : \"i do not care\",\n",
        "    \"idgadf\" : \"i do not give a damn fuck\",\n",
        "    \"idgaf\" : \"i do not give a fuck\",\n",
        "    \"idk\" : \"i do not know\",\n",
        "    \"ie\" : \"that is\",\n",
        "    \"i.e\" : \"that is\",\n",
        "    \"ifyp\" : \"i feel your pain\",\n",
        "    \"IG\" : \"instagram\",\n",
        "    \"iirc\" : \"if i remember correctly\",\n",
        "    \"ilu\" : \"i love you\",\n",
        "    \"ily\" : \"i love you\",\n",
        "    \"imho\" : \"in my humble opinion\",\n",
        "    \"imo\" : \"in my opinion\",\n",
        "    \"imu\" : \"i miss you\",\n",
        "    \"iow\" : \"in other words\",\n",
        "    \"irl\" : \"in real life\",\n",
        "    \"j4f\" : \"just for fun\",\n",
        "    \"jic\" : \"just in case\",\n",
        "    \"jk\" : \"just kidding\",\n",
        "    \"jsyk\" : \"just so you know\",\n",
        "    \"l8r\" : \"later\",\n",
        "    \"lb\" : \"pound\",\n",
        "    \"lbs\" : \"pounds\",\n",
        "    \"ldr\" : \"long distance relationship\",\n",
        "    \"lmao\" : \"laugh my ass off\",\n",
        "    \"lmfao\" : \"laugh my fucking ass off\",\n",
        "    \"lol\" : \"laughing out loud\",\n",
        "    \"ltd\" : \"limited\",\n",
        "    \"ltns\" : \"long time no see\",\n",
        "    \"m8\" : \"mate\",\n",
        "    \"mf\" : \"motherfucker\",\n",
        "    \"mfs\" : \"motherfuckers\",\n",
        "    \"mfw\" : \"my face when\",\n",
        "    \"mofo\" : \"motherfucker\",\n",
        "    \"mph\" : \"miles per hour\",\n",
        "    \"mr\" : \"mister\",\n",
        "    \"mrw\" : \"my reaction when\",\n",
        "    \"ms\" : \"miss\",\n",
        "    \"mte\" : \"my thoughts exactly\",\n",
        "    \"nagi\" : \"not a good idea\",\n",
        "    \"nbc\" : \"national broadcasting company\",\n",
        "    \"nbd\" : \"not big deal\",\n",
        "    \"nfs\" : \"not for sale\",\n",
        "    \"ngl\" : \"not going to lie\",\n",
        "    \"nhs\" : \"national health service\",\n",
        "    \"nrn\" : \"no reply necessary\",\n",
        "    \"nsfl\" : \"not safe for life\",\n",
        "    \"nsfw\" : \"not safe for work\",\n",
        "    \"nth\" : \"nice to have\",\n",
        "    \"nvr\" : \"never\",\n",
        "    \"nyc\" : \"new york city\",\n",
        "    \"oc\" : \"original content\",\n",
        "    \"og\" : \"original\",\n",
        "    \"ohp\" : \"overhead projector\",\n",
        "    \"oic\" : \"oh i see\",\n",
        "    \"omdb\" : \"over my dead body\",\n",
        "    \"omg\" : \"oh my god\",\n",
        "    \"omw\" : \"on my way\",\n",
        "    \"p.a\" : \"per annum\",\n",
        "    \"p.m\" : \"after midday\",\n",
        "    \"pm\" : \"prime minister\",\n",
        "    \"poc\" : \"people of color\",\n",
        "    \"pov\" : \"point of view\",\n",
        "    \"pp\" : \"pages\",\n",
        "    \"ppl\" : \"people\",\n",
        "    \"prw\" : \"parents are watching\",\n",
        "    \"ps\" : \"postscript\",\n",
        "    \"pt\" : \"point\",\n",
        "    \"ptb\" : \"please text back\",\n",
        "    \"pto\" : \"please turn over\",\n",
        "    \"qpsa\" : \"what happens\", \n",
        "    \"ratchet\" : \"rude\",\n",
        "    \"rbtl\" : \"read between the lines\",\n",
        "    \"rlrt\" : \"real life retweet\", \n",
        "    \"rofl\" : \"rolling on the floor laughing\",\n",
        "    \"roflol\" : \"rolling on the floor laughing out loud\",\n",
        "    \"rotflmao\" : \"rolling on the floor laughing my ass off\",\n",
        "    \"rt\" : \"retweet\",\n",
        "    \"ruok\" : \"are you ok\",\n",
        "    \"sfw\" : \"safe for work\",\n",
        "     \"sk8\" : \"skate\",\n",
        "    \"smh\" : \"shake my head\",\n",
        "    \"sq\" : \"square\",\n",
        "    \"srsly\" : \"seriously\", \n",
        "    \"ssdd\" : \"same stuff different day\",\n",
        "    \"tbh\" : \"to be honest\",\n",
        "    \"tbs\" : \"tablespooful\",\n",
        "    \"tbsp\" : \"tablespooful\",\n",
        "    \"tfw\" : \"that feeling when\",\n",
        "    \"thks\" : \"thank you\",\n",
        "    \"tho\" : \"though\",\n",
        "    \"thx\" : \"thank you\",\n",
        "    \"tia\" : \"thanks in advance\",\n",
        "    \"til\" : \"today i learned\",\n",
        "    \"tl;dr\" : \"too long i did not read\",\n",
        "    \"tldr\" : \"too long i did not read\",\n",
        "    \"tmb\" : \"tweet me back\",\n",
        "    \"tntl\" : \"trying not to laugh\",\n",
        "    \"ttyl\" : \"talk to you later\",\n",
        "    \"u\" : \"you\",\n",
        "    \"u2\" : \"you too\",\n",
        "    \"u4e\" : \"yours for ever\",\n",
        "    \"utc\" : \"coordinated universal time\",\n",
        "    \"w/\" : \"with\",\n",
        "    \"w/o\" : \"without\",\n",
        "    \"w8\" : \"wait\",\n",
        "    \"wassup\" : \"what is up\",\n",
        "    \"wb\" : \"welcome back\",\n",
        "    \"wtf\" : \"what the fuck\",\n",
        "    \"wtg\" : \"way to go\",\n",
        "    \"wtpa\" : \"where the party at\",\n",
        "    \"wuf\" : \"where are you from\",\n",
        "    \"wuzup\" : \"what is up\",\n",
        "    \"wywh\" : \"wish you were here\",\n",
        "    \"yd\" : \"yard\",\n",
        "    \"ygtr\" : \"you got that right\",\n",
        "    \"ynk\" : \"you never know\",\n",
        "    \"zzz\" : \"sleeping bored and tired\"\n",
        "}"
      ],
      "id": "favorite-bumper",
      "execution_count": null,
      "outputs": []
    },
    {
      "cell_type": "code",
      "metadata": {
        "execution": {
          "iopub.execute_input": "2021-05-14T11:07:00.421031Z",
          "iopub.status.busy": "2021-05-14T11:07:00.420360Z",
          "iopub.status.idle": "2021-05-14T11:07:00.424207Z",
          "shell.execute_reply": "2021-05-14T11:07:00.423541Z"
        },
        "papermill": {
          "duration": 0.033679,
          "end_time": "2021-05-14T11:07:00.424436",
          "exception": false,
          "start_time": "2021-05-14T11:07:00.390757",
          "status": "completed"
        },
        "tags": [],
        "id": "expressed-freight"
      },
      "source": [
        "def convert_abbrev_in_text(tweet):\n",
        "    t=[]\n",
        "    words=tweet.split()\n",
        "    t = [abbreviations[w.lower()] if w.lower() in abbreviations.keys() else w for w in words]\n",
        "    return ' '.join(t)  "
      ],
      "id": "expressed-freight",
      "execution_count": null,
      "outputs": []
    },
    {
      "cell_type": "code",
      "metadata": {
        "execution": {
          "iopub.execute_input": "2021-05-14T11:07:00.489738Z",
          "iopub.status.busy": "2021-05-14T11:07:00.484325Z",
          "iopub.status.idle": "2021-05-14T11:08:23.354973Z",
          "shell.execute_reply": "2021-05-14T11:08:23.354361Z"
        },
        "papermill": {
          "duration": 82.906712,
          "end_time": "2021-05-14T11:08:23.355154",
          "exception": false,
          "start_time": "2021-05-14T11:07:00.448442",
          "status": "completed"
        },
        "tags": [],
        "id": "south-trade",
        "outputId": "54e63b9a-6aee-4b2b-e479-09d13440694d"
      },
      "source": [
        "tweets['processed_tweets'] = tweets['tweet'].apply(lambda x: process_tweets(x))\n",
        "tweets['processed_tweets'] = tweets['processed_tweets'].apply(lambda x: convert_abbrev_in_text(x))\n",
        "print('Text Preprocessing complete.')\n",
        "tweets"
      ],
      "id": "south-trade",
      "execution_count": null,
      "outputs": [
        {
          "output_type": "stream",
          "text": [
            "Text Preprocessing complete.\n"
          ],
          "name": "stdout"
        },
        {
          "output_type": "execute_result",
          "data": {
            "text/html": [
              "<div>\n",
              "<style scoped>\n",
              "    .dataframe tbody tr th:only-of-type {\n",
              "        vertical-align: middle;\n",
              "    }\n",
              "\n",
              "    .dataframe tbody tr th {\n",
              "        vertical-align: top;\n",
              "    }\n",
              "\n",
              "    .dataframe thead th {\n",
              "        text-align: right;\n",
              "    }\n",
              "</style>\n",
              "<table border=\"1\" class=\"dataframe\">\n",
              "  <thead>\n",
              "    <tr style=\"text-align: right;\">\n",
              "      <th></th>\n",
              "      <th>sentiment</th>\n",
              "      <th>tweet</th>\n",
              "      <th>processed_tweets</th>\n",
              "    </tr>\n",
              "  </thead>\n",
              "  <tbody>\n",
              "    <tr>\n",
              "      <th>229425</th>\n",
              "      <td>0</td>\n",
              "      <td>Enough fun and games, back to the real world f...</td>\n",
              "      <td>nough fun game back real world</td>\n",
              "    </tr>\n",
              "    <tr>\n",
              "      <th>77366</th>\n",
              "      <td>0</td>\n",
              "      <td>Can't believe it's 3:45 already :O where has m...</td>\n",
              "      <td>annot believe 345 already day gone oh right ye...</td>\n",
              "    </tr>\n",
              "    <tr>\n",
              "      <th>969001</th>\n",
              "      <td>1</td>\n",
              "      <td>Papi flew into town. Gonna watch sports all da...</td>\n",
              "      <td>api flew town gon na watch sport day eat good ...</td>\n",
              "    </tr>\n",
              "    <tr>\n",
              "      <th>1284152</th>\n",
              "      <td>1</td>\n",
              "      <td>@kobeboo Eat up! guz i am hittin the sack!!! k...</td>\n",
              "      <td>kobeboo eat guz hittin sack kissie poo</td>\n",
              "    </tr>\n",
              "    <tr>\n",
              "      <th>1370579</th>\n",
              "      <td>1</td>\n",
              "      <td>Great show tonight! So excited for the next one!</td>\n",
              "      <td>reat show tonight excited next one</td>\n",
              "    </tr>\n",
              "    <tr>\n",
              "      <th>...</th>\n",
              "      <td>...</td>\n",
              "      <td>...</td>\n",
              "      <td>...</td>\n",
              "    </tr>\n",
              "    <tr>\n",
              "      <th>1225984</th>\n",
              "      <td>1</td>\n",
              "      <td>Only 2 more days of school, how exciting is th...</td>\n",
              "      <td>nly day school exciting mucho</td>\n",
              "    </tr>\n",
              "    <tr>\n",
              "      <th>1123961</th>\n",
              "      <td>1</td>\n",
              "      <td>@anneka13deleon thanks so much for helping thi...</td>\n",
              "      <td>anneka13deleon thanks much helping support system</td>\n",
              "    </tr>\n",
              "    <tr>\n",
              "      <th>213069</th>\n",
              "      <td>0</td>\n",
              "      <td>My fishing pole quit working.</td>\n",
              "      <td>fishing pole quit working</td>\n",
              "    </tr>\n",
              "    <tr>\n",
              "      <th>1139641</th>\n",
              "      <td>1</td>\n",
              "      <td>@ameonna10 Haha. it's like being tagged.</td>\n",
              "      <td>ameonna10 haha like tagged</td>\n",
              "    </tr>\n",
              "    <tr>\n",
              "      <th>1029780</th>\n",
              "      <td>1</td>\n",
              "      <td>follow @paulelgin, join the movement  if not y...</td>\n",
              "      <td>ollow join movement gon na unathletic baby wno...</td>\n",
              "    </tr>\n",
              "  </tbody>\n",
              "</table>\n",
              "<p>200000 rows × 3 columns</p>\n",
              "</div>"
            ],
            "text/plain": [
              "         sentiment                                              tweet  \\\n",
              "229425           0  Enough fun and games, back to the real world f...   \n",
              "77366            0  Can't believe it's 3:45 already :O where has m...   \n",
              "969001           1  Papi flew into town. Gonna watch sports all da...   \n",
              "1284152          1  @kobeboo Eat up! guz i am hittin the sack!!! k...   \n",
              "1370579          1  Great show tonight! So excited for the next one!    \n",
              "...            ...                                                ...   \n",
              "1225984          1  Only 2 more days of school, how exciting is th...   \n",
              "1123961          1  @anneka13deleon thanks so much for helping thi...   \n",
              "213069           0                     My fishing pole quit working.    \n",
              "1139641          1          @ameonna10 Haha. it's like being tagged.    \n",
              "1029780          1  follow @paulelgin, join the movement  if not y...   \n",
              "\n",
              "                                          processed_tweets  \n",
              "229425                      nough fun game back real world  \n",
              "77366    annot believe 345 already day gone oh right ye...  \n",
              "969001   api flew town gon na watch sport day eat good ...  \n",
              "1284152             kobeboo eat guz hittin sack kissie poo  \n",
              "1370579                 reat show tonight excited next one  \n",
              "...                                                    ...  \n",
              "1225984                      nly day school exciting mucho  \n",
              "1123961  anneka13deleon thanks much helping support system  \n",
              "213069                           fishing pole quit working  \n",
              "1139641                         ameonna10 haha like tagged  \n",
              "1029780  ollow join movement gon na unathletic baby wno...  \n",
              "\n",
              "[200000 rows x 3 columns]"
            ]
          },
          "metadata": {
            "tags": []
          },
          "execution_count": 13
        }
      ]
    },
    {
      "cell_type": "code",
      "metadata": {
        "execution": {
          "iopub.execute_input": "2021-05-14T11:08:23.417359Z",
          "iopub.status.busy": "2021-05-14T11:08:23.412121Z",
          "iopub.status.idle": "2021-05-14T11:08:23.898552Z",
          "shell.execute_reply": "2021-05-14T11:08:23.899238Z"
        },
        "papermill": {
          "duration": 0.519699,
          "end_time": "2021-05-14T11:08:23.899481",
          "exception": false,
          "start_time": "2021-05-14T11:08:23.379782",
          "status": "completed"
        },
        "tags": [],
        "id": "southwest-architect",
        "outputId": "f580031c-e1e5-4988-9fab-7ac7897cddc4"
      },
      "source": [
        "#removing shortwords\n",
        "tweets['processed_tweets']=tweets['processed_tweets'].apply(lambda x: \" \".join([w for w in x.split() if len(w)>3]))\n",
        "tweets.head(5)"
      ],
      "id": "southwest-architect",
      "execution_count": null,
      "outputs": [
        {
          "output_type": "execute_result",
          "data": {
            "text/html": [
              "<div>\n",
              "<style scoped>\n",
              "    .dataframe tbody tr th:only-of-type {\n",
              "        vertical-align: middle;\n",
              "    }\n",
              "\n",
              "    .dataframe tbody tr th {\n",
              "        vertical-align: top;\n",
              "    }\n",
              "\n",
              "    .dataframe thead th {\n",
              "        text-align: right;\n",
              "    }\n",
              "</style>\n",
              "<table border=\"1\" class=\"dataframe\">\n",
              "  <thead>\n",
              "    <tr style=\"text-align: right;\">\n",
              "      <th></th>\n",
              "      <th>sentiment</th>\n",
              "      <th>tweet</th>\n",
              "      <th>processed_tweets</th>\n",
              "    </tr>\n",
              "  </thead>\n",
              "  <tbody>\n",
              "    <tr>\n",
              "      <th>229425</th>\n",
              "      <td>0</td>\n",
              "      <td>Enough fun and games, back to the real world f...</td>\n",
              "      <td>nough game back real world</td>\n",
              "    </tr>\n",
              "    <tr>\n",
              "      <th>77366</th>\n",
              "      <td>0</td>\n",
              "      <td>Can't believe it's 3:45 already :O where has m...</td>\n",
              "      <td>annot believe already gone right yeah revision</td>\n",
              "    </tr>\n",
              "    <tr>\n",
              "      <th>969001</th>\n",
              "      <td>1</td>\n",
              "      <td>Papi flew into town. Gonna watch sports all da...</td>\n",
              "      <td>flew town watch sport good food dodger game to...</td>\n",
              "    </tr>\n",
              "    <tr>\n",
              "      <th>1284152</th>\n",
              "      <td>1</td>\n",
              "      <td>@kobeboo Eat up! guz i am hittin the sack!!! k...</td>\n",
              "      <td>kobeboo hittin sack kissie</td>\n",
              "    </tr>\n",
              "    <tr>\n",
              "      <th>1370579</th>\n",
              "      <td>1</td>\n",
              "      <td>Great show tonight! So excited for the next one!</td>\n",
              "      <td>reat show tonight excited next</td>\n",
              "    </tr>\n",
              "  </tbody>\n",
              "</table>\n",
              "</div>"
            ],
            "text/plain": [
              "         sentiment                                              tweet  \\\n",
              "229425           0  Enough fun and games, back to the real world f...   \n",
              "77366            0  Can't believe it's 3:45 already :O where has m...   \n",
              "969001           1  Papi flew into town. Gonna watch sports all da...   \n",
              "1284152          1  @kobeboo Eat up! guz i am hittin the sack!!! k...   \n",
              "1370579          1  Great show tonight! So excited for the next one!    \n",
              "\n",
              "                                          processed_tweets  \n",
              "229425                          nough game back real world  \n",
              "77366       annot believe already gone right yeah revision  \n",
              "969001   flew town watch sport good food dodger game to...  \n",
              "1284152                         kobeboo hittin sack kissie  \n",
              "1370579                     reat show tonight excited next  "
            ]
          },
          "metadata": {
            "tags": []
          },
          "execution_count": 14
        }
      ]
    },
    {
      "cell_type": "code",
      "metadata": {
        "execution": {
          "iopub.execute_input": "2021-05-14T11:08:24.009604Z",
          "iopub.status.busy": "2021-05-14T11:08:24.008926Z",
          "iopub.status.idle": "2021-05-14T11:08:24.101664Z",
          "shell.execute_reply": "2021-05-14T11:08:24.101034Z"
        },
        "papermill": {
          "duration": 0.15148,
          "end_time": "2021-05-14T11:08:24.101817",
          "exception": false,
          "start_time": "2021-05-14T11:08:23.950337",
          "status": "completed"
        },
        "tags": [],
        "id": "canadian-advertiser"
      },
      "source": [
        "from sklearn.utils import shuffle\n",
        "tweets =  shuffle(tweets).reset_index(drop=True)\n"
      ],
      "id": "canadian-advertiser",
      "execution_count": null,
      "outputs": []
    },
    {
      "cell_type": "code",
      "metadata": {
        "execution": {
          "iopub.execute_input": "2021-05-14T11:08:24.166843Z",
          "iopub.status.busy": "2021-05-14T11:08:24.161574Z",
          "iopub.status.idle": "2021-05-14T11:08:24.633430Z",
          "shell.execute_reply": "2021-05-14T11:08:24.632766Z"
        },
        "papermill": {
          "duration": 0.506754,
          "end_time": "2021-05-14T11:08:24.633571",
          "exception": false,
          "start_time": "2021-05-14T11:08:24.126817",
          "status": "completed"
        },
        "tags": [],
        "id": "aggregate-contribution",
        "outputId": "169dfc34-2621-480d-a684-b5eab036b454"
      },
      "source": [
        "#tokenization\n",
        "tokenized_tweet=tweets['processed_tweets'].apply(lambda x: x.split())\n",
        "tokenized_tweet.head(5)"
      ],
      "id": "aggregate-contribution",
      "execution_count": null,
      "outputs": [
        {
          "output_type": "execute_result",
          "data": {
            "text/plain": [
              "0               [weppos, cool, mine, outdated, though]\n",
              "1                                        [eing, bored]\n",
              "2    [earchnrescure, police, copters, went, house, ...\n",
              "3    [fixed, siiiite, love, thing, feel, relief, ho...\n",
              "4                  [tudying, linear, function, school]\n",
              "Name: processed_tweets, dtype: object"
            ]
          },
          "metadata": {
            "tags": []
          },
          "execution_count": 16
        }
      ]
    },
    {
      "cell_type": "code",
      "metadata": {
        "execution": {
          "iopub.execute_input": "2021-05-14T11:08:24.967896Z",
          "iopub.status.busy": "2021-05-14T11:08:24.962361Z",
          "iopub.status.idle": "2021-05-14T11:08:28.632213Z",
          "shell.execute_reply": "2021-05-14T11:08:28.631553Z"
        },
        "papermill": {
          "duration": 3.973237,
          "end_time": "2021-05-14T11:08:28.632363",
          "exception": false,
          "start_time": "2021-05-14T11:08:24.659126",
          "status": "completed"
        },
        "tags": [],
        "id": "olive-specific"
      },
      "source": [
        "from sklearn.feature_extraction.text import CountVectorizer\n",
        "from nltk.tokenize import RegexpTokenizer\n",
        "token = RegexpTokenizer(r'[a-zA-Z0-9]+')\n",
        "cv = CountVectorizer(stop_words='english',ngram_range = (1,1),tokenizer = token.tokenize)\n",
        "text_counts = cv.fit_transform(tweets['processed_tweets'].values.astype('U'))"
      ],
      "id": "olive-specific",
      "execution_count": null,
      "outputs": []
    },
    {
      "cell_type": "code",
      "metadata": {
        "execution": {
          "iopub.execute_input": "2021-05-14T11:08:28.697739Z",
          "iopub.status.busy": "2021-05-14T11:08:28.690986Z",
          "iopub.status.idle": "2021-05-14T11:08:28.732810Z",
          "shell.execute_reply": "2021-05-14T11:08:28.732109Z"
        },
        "papermill": {
          "duration": 0.074511,
          "end_time": "2021-05-14T11:08:28.732953",
          "exception": false,
          "start_time": "2021-05-14T11:08:28.658442",
          "status": "completed"
        },
        "tags": [],
        "id": "following-diagnosis"
      },
      "source": [
        "from sklearn.model_selection import train_test_split\n",
        "X=text_counts\n",
        "y=tweets['sentiment']\n",
        "X_train, X_test, y_train, y_test = train_test_split(X, y, test_size=0.20,random_state=19)\n"
      ],
      "id": "following-diagnosis",
      "execution_count": null,
      "outputs": []
    },
    {
      "cell_type": "code",
      "metadata": {
        "execution": {
          "iopub.execute_input": "2021-05-14T11:08:28.792739Z",
          "iopub.status.busy": "2021-05-14T11:08:28.791825Z",
          "iopub.status.idle": "2021-05-14T11:08:31.337338Z",
          "shell.execute_reply": "2021-05-14T11:08:31.337934Z"
        },
        "papermill": {
          "duration": 2.579232,
          "end_time": "2021-05-14T11:08:31.338121",
          "exception": false,
          "start_time": "2021-05-14T11:08:28.758889",
          "status": "completed"
        },
        "tags": [],
        "id": "grateful-sense",
        "outputId": "f7240a90-25db-4da6-d162-e5152bd3c882"
      },
      "source": [
        "from sklearn.naive_bayes import ComplementNB\n",
        "from sklearn.model_selection import GridSearchCV\n",
        "from sklearn.model_selection import cross_val_score\n",
        "from sklearn import metrics\n",
        "from math import *\n",
        "cnb = ComplementNB()\n",
        "cnb.fit(X_train, y_train)\n",
        "cross_cnb = cross_val_score(cnb, X, y,n_jobs = -1)\n",
        "print(\"Cross Validation score = \",cross_cnb)                \n",
        "print (\"Train accuracy ={:.2f}%\".format(cnb.score(X_train,y_train)*100))\n",
        "print (\"Test accuracy ={:.2f}%\".format(cnb.score(X_test,y_test)*100))\n",
        "train_acc_cnb=cnb.score(X_train,y_train)\n",
        "test_acc_cnb=cnb.score(X_test,y_test)"
      ],
      "id": "grateful-sense",
      "execution_count": null,
      "outputs": [
        {
          "output_type": "stream",
          "text": [
            "Cross Validation score =  [0.72985  0.72955  0.731875 0.7305   0.731275]\n",
            "Train accuracy =85.67%\n",
            "Test accuracy =72.98%\n"
          ],
          "name": "stdout"
        }
      ]
    },
    {
      "cell_type": "code",
      "metadata": {
        "execution": {
          "iopub.execute_input": "2021-05-14T11:08:31.400349Z",
          "iopub.status.busy": "2021-05-14T11:08:31.399679Z",
          "iopub.status.idle": "2021-05-14T11:08:31.598964Z",
          "shell.execute_reply": "2021-05-14T11:08:31.598199Z"
        },
        "papermill": {
          "duration": 0.2347,
          "end_time": "2021-05-14T11:08:31.599122",
          "exception": false,
          "start_time": "2021-05-14T11:08:31.364422",
          "status": "completed"
        },
        "tags": [],
        "id": "later-compromise",
        "outputId": "dd845f0d-d1e0-4692-c235-ce09a029d21d"
      },
      "source": [
        "#plotting the best parameters\n",
        "import matplotlib.patches as mpatches\n",
        "import numpy as np\n",
        "import pandas as pd\n",
        "from pandas import Series, DataFrame\n",
        "import matplotlib.pyplot as plt\n",
        "data_cnb = [train_acc_cnb,test_acc_cnb]\n",
        "labels = ['Train Accuracy','Test Accuracy']\n",
        "plt.xticks(range(len(data_cnb)), labels)\n",
        "plt.ylabel('Accuracy')\n",
        "plt.title('Accuracy plot with best parameters')\n",
        "plt.bar(range(len(data_cnb)), data_cnb,color=['blue','darkorange']) \n",
        "Train_acc = mpatches.Patch(color='blue', label='Train_acc')\n",
        "Test_acc = mpatches.Patch(color='darkorange', label='Test_acc')\n",
        "plt.legend(handles=[Train_acc, Test_acc],loc='best')\n",
        "plt.gcf().set_size_inches(8, 8)\n",
        "plt.show()"
      ],
      "id": "later-compromise",
      "execution_count": null,
      "outputs": [
        {
          "output_type": "display_data",
          "data": {
            "image/png": "[encoded data removed]",
            "text/plain": [
              "<Figure size 576x576 with 1 Axes>"
            ]
          },
          "metadata": {
            "tags": [],
            "needs_background": "light"
          }
        }
      ]
    },
    {
      "cell_type": "code",
      "metadata": {
        "execution": {
          "iopub.execute_input": "2021-05-14T11:08:31.660575Z",
          "iopub.status.busy": "2021-05-14T11:08:31.659826Z",
          "iopub.status.idle": "2021-05-14T11:08:31.727261Z",
          "shell.execute_reply": "2021-05-14T11:08:31.726688Z"
        },
        "papermill": {
          "duration": 0.100634,
          "end_time": "2021-05-14T11:08:31.727406",
          "exception": false,
          "start_time": "2021-05-14T11:08:31.626772",
          "status": "completed"
        },
        "tags": [],
        "id": "thick-thinking",
        "outputId": "f69d445e-8089-4b7c-d58f-a42286b2a70a"
      },
      "source": [
        "#confusionmatrix \n",
        "from sklearn.metrics import *\n",
        "#Predict test data set\n",
        "y_pred_cnb =cnb.predict(X_test)\n",
        "\n",
        "#This is the confusion matrix :\n",
        "from sklearn.metrics import confusion_matrix\n",
        "print(confusion_matrix(y_test,y_pred_cnb))"
      ],
      "id": "thick-thinking",
      "execution_count": null,
      "outputs": [
        {
          "output_type": "stream",
          "text": [
            "[[15349  4630]\n",
            " [ 6177 13844]]\n"
          ],
          "name": "stdout"
        }
      ]
    },
    {
      "cell_type": "code",
      "metadata": {
        "execution": {
          "iopub.execute_input": "2021-05-14T11:08:31.788657Z",
          "iopub.status.busy": "2021-05-14T11:08:31.787899Z",
          "iopub.status.idle": "2021-05-14T11:08:31.888773Z",
          "shell.execute_reply": "2021-05-14T11:08:31.888254Z"
        },
        "papermill": {
          "duration": 0.133752,
          "end_time": "2021-05-14T11:08:31.888924",
          "exception": false,
          "start_time": "2021-05-14T11:08:31.755172",
          "status": "completed"
        },
        "tags": [],
        "id": "civilian-charger",
        "outputId": "20e94fd7-81ed-458f-a4ca-175a5274c791"
      },
      "source": [
        "#Checking performance our model with classification report\n",
        "print(classification_report(y_test, y_pred_cnb))\n",
        "\n",
        "#Checking performance our model with ROC Score\n",
        "roc_score_cnb=roc_auc_score(y_test, y_pred_cnb)\n",
        "print(\"Area Under the Curve = \",roc_score_cnb)"
      ],
      "id": "civilian-charger",
      "execution_count": null,
      "outputs": [
        {
          "output_type": "stream",
          "text": [
            "              precision    recall  f1-score   support\n",
            "\n",
            "           0       0.71      0.77      0.74     19979\n",
            "           1       0.75      0.69      0.72     20021\n",
            "\n",
            "    accuracy                           0.73     40000\n",
            "   macro avg       0.73      0.73      0.73     40000\n",
            "weighted avg       0.73      0.73      0.73     40000\n",
            "\n",
            "Area Under the Curve =  0.7298653109265052\n"
          ],
          "name": "stdout"
        }
      ]
    },
    {
      "cell_type": "code",
      "metadata": {
        "execution": {
          "iopub.execute_input": "2021-05-14T11:08:31.954534Z",
          "iopub.status.busy": "2021-05-14T11:08:31.953723Z",
          "iopub.status.idle": "2021-05-14T11:08:32.073320Z",
          "shell.execute_reply": "2021-05-14T11:08:32.072697Z"
        },
        "papermill": {
          "duration": 0.156153,
          "end_time": "2021-05-14T11:08:32.073456",
          "exception": false,
          "start_time": "2021-05-14T11:08:31.917303",
          "status": "completed"
        },
        "tags": [],
        "id": "informal-basket",
        "outputId": "ef710129-c5ce-4686-a52d-bf4a9f1bd05f"
      },
      "source": [
        "#Calculating F1, prescision and recall scores\n",
        "from sklearn.metrics import *\n",
        "\n",
        "print(\"F1 score ={:.2f}%\".format(f1_score(y_test, y_pred_cnb, average=\"macro\")*100))\n",
        "f1_cnb=f1_score(y_test, y_pred_cnb, average=\"macro\")\n",
        "print(\"Precision score ={:.2f}%\".format(precision_score(y_test, y_pred_cnb, average=\"macro\")*100))\n",
        "precision_cnb=precision_score(y_test, y_pred_cnb, average=\"macro\")\n",
        "print(\"Recall score ={:.2f}%\".format(recall_score(y_test, y_pred_cnb, average=\"macro\")*100))  \n",
        "recall_cnb=recall_score(y_test, y_pred_cnb, average=\"macro\")"
      ],
      "id": "informal-basket",
      "execution_count": null,
      "outputs": [
        {
          "output_type": "stream",
          "text": [
            "F1 score =72.94%\n",
            "Precision score =73.12%\n",
            "Recall score =72.99%\n"
          ],
          "name": "stdout"
        }
      ]
    },
    {
      "cell_type": "code",
      "metadata": {
        "execution": {
          "iopub.execute_input": "2021-05-14T11:08:32.138807Z",
          "iopub.status.busy": "2021-05-14T11:08:32.137772Z",
          "iopub.status.idle": "2021-05-14T11:08:32.339004Z",
          "shell.execute_reply": "2021-05-14T11:08:32.338221Z"
        },
        "papermill": {
          "duration": 0.236461,
          "end_time": "2021-05-14T11:08:32.339184",
          "exception": false,
          "start_time": "2021-05-14T11:08:32.102723",
          "status": "completed"
        },
        "tags": [],
        "id": "egyptian-twelve",
        "outputId": "7df9b869-f2c5-44fd-d1a5-f3c186fa9033"
      },
      "source": [
        "#Drawing the ROC curve \n",
        "import matplotlib.pyplot as plt\n",
        "from sklearn.metrics import roc_curve\n",
        "import numpy as np\n",
        "fpr_dt_1, tpr_dt_1,_=roc_curve(y_test,cnb.predict_proba(X_test)[:,1])\n",
        "plt.plot(fpr_dt_1,tpr_dt_1,label=\"ROC curve\")\n",
        "plt.xlabel('False Positive Rate')\n",
        "plt.ylabel('True Positive Rate')\n",
        "plt.legend()\n",
        "plt.gcf().set_size_inches(8, 8)\n",
        "plt.show()"
      ],
      "id": "egyptian-twelve",
      "execution_count": null,
      "outputs": [
        {
          "output_type": "display_data",
          "data": {
            "image/png": "[encoded data removed]",
            "text/plain": [
              "<Figure size 576x576 with 1 Axes>"
            ]
          },
          "metadata": {
            "tags": [],
            "needs_background": "light"
          }
        }
      ]
    },
    {
      "cell_type": "code",
      "metadata": {
        "papermill": {
          "duration": 0.030229,
          "end_time": "2021-05-14T11:08:32.400565",
          "exception": false,
          "start_time": "2021-05-14T11:08:32.370336",
          "status": "completed"
        },
        "tags": [],
        "id": "favorite-weight"
      },
      "source": [
        ""
      ],
      "id": "favorite-weight",
      "execution_count": null,
      "outputs": []
    }
  ]
}